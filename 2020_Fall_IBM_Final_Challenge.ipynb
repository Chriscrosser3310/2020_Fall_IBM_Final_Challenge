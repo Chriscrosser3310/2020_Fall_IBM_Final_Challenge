{
 "cells": [
  {
   "cell_type": "code",
   "execution_count": 87,
   "metadata": {},
   "outputs": [],
   "source": [
    "import pyzx as zx\n",
    "import json\n",
    "\n",
    "def show_zx_diagram(file_name):\n",
    "    with open(file_name, 'r') as qgraph:\n",
    "        return zx.draw_matplotlib(pyzx.Graph().from_json(qgraph.read()))"
   ]
  },
  {
   "cell_type": "markdown",
   "metadata": {},
   "source": [
    "(add cover vertex and Kőnig's theorem)"
   ]
  },
  {
   "cell_type": "markdown",
   "metadata": {},
   "source": [
    "Suppose we have an arbitrary binary matrix $M$, we can define an operation $R$ that takes the matrix as input and outputs the **binary relation** corresponds to the matrix (or the set of row-column pairs whose value is 1):"
   ]
  },
  {
   "cell_type": "markdown",
   "metadata": {},
   "source": [
    "$$\n",
    "R(M) := \\{(i, j) : M_{ij} = 1\\}\n",
    "$$"
   ]
  },
  {
   "cell_type": "markdown",
   "metadata": {},
   "source": [
    "An example of the operation is as followed:"
   ]
  },
  {
   "cell_type": "markdown",
   "metadata": {},
   "source": [
    "$$\n",
    "R\\left(\n",
    "\\begin{bmatrix}\n",
    "1 & 0 & 1 & 0 \\\\\n",
    "0 & 1 & 1 & 0 \\\\\n",
    "0 & 0 & 1 & 0 \\\\\n",
    "0 & 0 & 0 & 1 \\\\\n",
    "\\end{bmatrix}\n",
    "\\right) \\quad\n",
    "= \\quad\n",
    "\\{(0,0),(0,2),(1,1),(1,2),(2,2),(3,3)\\}\n",
    "$$"
   ]
  },
  {
   "cell_type": "markdown",
   "metadata": {},
   "source": [
    "By definition, $4 \\times 4$ **permutation matrices** $P_i$ are those whose binary relation in the following form:"
   ]
  },
  {
   "cell_type": "markdown",
   "metadata": {},
   "source": [
    "$$\n",
    "R(P_i) = \\{(0, k),(1, l),(2,m),(3,n):(k,l,m,n) = Perm(0,1,2,3)_i\\}\n",
    "$$"
   ]
  },
  {
   "cell_type": "markdown",
   "metadata": {},
   "source": [
    "where the order can be arbitrary."
   ]
  },
  {
   "cell_type": "markdown",
   "metadata": {},
   "source": [
    "By Kőnig's theorem, we can observe that the board can be not cleared within 3 shots **if and only if** at lesat one permutation matrix presents in the board matrix. Equivalently, there exits $P_i$ such that its binary relation is a subset of the boards' binary relation:"
   ]
  },
  {
   "cell_type": "markdown",
   "metadata": {},
   "source": [
    "$$\n",
    "\\exists P_i: R(P_i) \\subseteq R(B)\n",
    "$$"
   ]
  },
  {
   "cell_type": "markdown",
   "metadata": {},
   "source": [
    "However, how many permutation matrices we can have at most in a single board with 6 asteroids? If we can have mutiple, do they have to satisfy certain properties? In order to see this, let's first calculate the range of the number of asteroids in the union of two permutation matrices and the intersection of them. The upper bound for intersection is 2, because the operation that changes the least of a permutation is to swap two elements (e.g. 1234 and 1243), which leaves the other 2 unchanged. The lower bound for intersection is 0, as it's possible to have two permutations with all elements different (e.g. 1234 and 2341). This implies that the union of two permutation matricess will have number of asteroids in the range of [6, 8]."
   ]
  },
  {
   "cell_type": "markdown",
   "metadata": {},
   "source": [
    "$$\n",
    "0 \\leq |R(P_i) \\cap R(P_j)| \\leq 2 \\quad\n",
    "\\leftrightarrow \\quad\n",
    "6 \\leq |R(P_i) \\cup R(P_j)| \\leq 8\n",
    "$$"
   ]
  },
  {
   "cell_type": "markdown",
   "metadata": {},
   "source": [
    "$$\n",
    "|R(P_i) \\cap R(P_j)| = 2 \\quad\n",
    "\\leftrightarrow \\quad\n",
    "|R(P_i) \\cup R(P_j)| = 6\n",
    "$$"
   ]
  },
  {
   "cell_type": "markdown",
   "metadata": {},
   "source": [
    "$$\n",
    "\\begin{cases}\n",
    "i \\neq k \\\\\n",
    "|R(P_i) \\cap R(P_j)| = 2 \\\\\n",
    "|R(P_j) \\cap R(P_k)| = 2 \\\\\n",
    "\\end{cases}\n",
    "\\implies\n",
    "|R(P_i) \\cap R(P_k)| \\neq 2\n",
    "$$"
   ]
  },
  {
   "cell_type": "markdown",
   "metadata": {},
   "source": [
    "$$\n",
    "|R(P_i) \\cap R(P_k)| \\neq 2 \n",
    "\\implies\n",
    "|R(P_i) \\cap R(P_k)| \\leq 1\n",
    "\\implies\n",
    "|R(P_i) \\cup R(P_k)| \\geq 7\n",
    "$$"
   ]
  },
  {
   "cell_type": "markdown",
   "metadata": {},
   "source": [
    "We can see that three boards unioned together will have a lower bound of 7 ateroids:"
   ]
  },
  {
   "cell_type": "markdown",
   "metadata": {},
   "source": [
    "$$\n",
    "|R(P_i) \\cup R(P_j) \\cup R(P_k)| \\geq\n",
    "|R(P_i) \\cup R(P_k)| \\geq \n",
    "7\n",
    "$$"
   ]
  },
  {
   "cell_type": "markdown",
   "metadata": {},
   "source": [
    "$$\n",
    "\\begin{cases}\n",
    "    R(B) = R(P_i) \\cup R(A), &A \\notin \\{P\\} \\\\\n",
    "   R(B) = R(P_i) \\cup R(P_j), &|R(P_i) \\cap R(P_j)| = 2\n",
    "\\end{cases}\n",
    "$$"
   ]
  },
  {
   "cell_type": "markdown",
   "metadata": {},
   "source": [
    "$$\n",
    "R\\left(\n",
    "\\begin{bmatrix}\n",
    "1 & 0 & 0 & 0 \\\\\n",
    "0 & 1 & 0 & 0 \\\\\n",
    "0 & 0 & 1 & 0 \\\\\n",
    "0 & 0 & 0 & 1 \\\\\n",
    "\\end{bmatrix}\n",
    "\\right) \\quad\n",
    "\\subset \\quad\n",
    "R\\left(\n",
    "\\begin{bmatrix}\n",
    "1 & 1 & 0 & 0 \\\\\n",
    "0 & 1 & 0 & 0 \\\\\n",
    "1 & 0 & 1 & 0 \\\\\n",
    "0 & 0 & 0 & 1 \\\\\n",
    "\\end{bmatrix}\n",
    "\\right)\n",
    "$$"
   ]
  },
  {
   "cell_type": "markdown",
   "metadata": {},
   "source": [
    "$$\n",
    "R\\left(\n",
    "\\begin{bmatrix}\n",
    "1 & 0 & 0 & 0 \\\\\n",
    "0 & 1 & 0 & 0 \\\\\n",
    "0 & 0 & 1 & 0 \\\\\n",
    "0 & 0 & 0 & 1 \\\\\n",
    "\\end{bmatrix}\n",
    "\\right) \\quad\n",
    "\\cup \\quad\n",
    "R\\left(\n",
    "\\begin{bmatrix}\n",
    "0 & 1 & 0 & 0 \\\\\n",
    "1 & 0 & 0 & 0 \\\\\n",
    "0 & 0 & 1 & 0 \\\\\n",
    "0 & 0 & 0 & 1 \\\\\n",
    "\\end{bmatrix}\n",
    "\\right) \\quad\n",
    "= \\quad\n",
    "R\\left(\n",
    "\\begin{bmatrix}\n",
    "1 & 1 & 0 & 0 \\\\\n",
    "1 & 1 & 0 & 0 \\\\\n",
    "0 & 0 & 1 & 0 \\\\\n",
    "0 & 0 & 0 & 1 \\\\\n",
    "\\end{bmatrix}\n",
    "\\right)\n",
    "$$"
   ]
  },
  {
   "cell_type": "markdown",
   "metadata": {},
   "source": [
    "SJT algorithm"
   ]
  },
  {
   "cell_type": "markdown",
   "metadata": {},
   "source": [
    "$$\n",
    "P_0 = \n",
    "\\begin{bmatrix}\n",
    "1 & 0 & 0 & 0 \\\\\n",
    "0 & 1 & 0 & 0 \\\\\n",
    "0 & 0 & 1 & 0 \\\\\n",
    "0 & 0 & 0 & 1\n",
    "\\end{bmatrix}\n",
    "\\quad\n",
    "P_1 = \n",
    "\\begin{bmatrix}\n",
    "1 & 0 & 0 & 0 \\\\\n",
    "0 & 1 & 0 & 0 \\\\\n",
    "0 & 0 & 0 & 1 \\\\\n",
    "0 & 0 & 1 & 0\n",
    "\\end{bmatrix}\n",
    "\\quad\n",
    "P_2 = \n",
    "\\begin{bmatrix}\n",
    "1 & 0 & 0 & 0 \\\\\n",
    "0 & 0 & 0 & 1 \\\\\n",
    "0 & 1 & 0 & 0 \\\\\n",
    "0 & 0 & 1 & 0\n",
    "\\end{bmatrix}\n",
    "\\quad\n",
    "\\dots\n",
    "$$"
   ]
  },
  {
   "cell_type": "code",
   "execution_count": null,
   "metadata": {},
   "outputs": [],
   "source": []
  },
  {
   "cell_type": "code",
   "execution_count": null,
   "metadata": {},
   "outputs": [],
   "source": []
  },
  {
   "cell_type": "code",
   "execution_count": null,
   "metadata": {},
   "outputs": [],
   "source": []
  }
 ],
 "metadata": {
  "kernelspec": {
   "display_name": "Python 3",
   "language": "python",
   "name": "python3"
  },
  "language_info": {
   "codemirror_mode": {
    "name": "ipython",
    "version": 3
   },
   "file_extension": ".py",
   "mimetype": "text/x-python",
   "name": "python",
   "nbconvert_exporter": "python",
   "pygments_lexer": "ipython3",
   "version": "3.7.4"
  }
 },
 "nbformat": 4,
 "nbformat_minor": 4
}
